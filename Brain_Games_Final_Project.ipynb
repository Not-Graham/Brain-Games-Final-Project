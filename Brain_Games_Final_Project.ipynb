{
  "nbformat": 4,
  "nbformat_minor": 0,
  "metadata": {
    "colab": {
      "name": "Brain Games Final Project.ipynb",
      "provenance": [],
      "collapsed_sections": [],
      "private_outputs": true,
      "include_colab_link": true
    },
    "kernelspec": {
      "name": "python3",
      "display_name": "Python 3"
    },
    "language_info": {
      "name": "python"
    }
  },
  "cells": [
    {
      "cell_type": "markdown",
      "metadata": {
        "id": "view-in-github",
        "colab_type": "text"
      },
      "source": [
        "<a href=\"https://colab.research.google.com/github/Not-Graham/Brain-Games-Final-Project/blob/main/Brain_Games_Final_Project.ipynb\" target=\"_parent\"><img src=\"https://colab.research.google.com/assets/colab-badge.svg\" alt=\"Open In Colab\"/></a>"
      ]
    },
    {
      "cell_type": "code",
      "execution_count": null,
      "metadata": {
        "id": "6frMucY5Cv9y"
      },
      "outputs": [],
      "source": [
        "from os.path import exists\n",
        "import os\n",
        "import subprocess\n",
        "import sys\n",
        "from pathlib import Path\n",
        "import shutil\n",
        "import time\n",
        "file_exists = Path('/content/Brain-Games-Final-Project/')\n",
        "file_exists = exists(file_exists)\n",
        "if file_exists != True:\n",
        "  !git clone https://github.com/not-graham/Brain-Games-Final-Project.git\n",
        "file_exists = exists(\"/content/Brain-Games-Final-Project/03.html\")\n",
        "if file_exists != True:\n",
        "  !wget https://raw.githubusercontent.com/not-graham/Brain-Games-Final-Project/main/03.html\n",
        "  shutil.move(\"/content/03.html\", \"/content/Brain-Games-Final-Project/03.html\")\n",
        "file_exists = exists(\"/content/templates/03.html\")\n",
        "if file_exists != True:\n",
        "  !wget https://raw.githubusercontent.com/not-graham/Brain-Games-Final-Project/main/03.html\n",
        "  shutil.move(\"/content/03.html\", \"/content/templates\")\n",
        "file_exists = exists(\"/content/03.html\")\n",
        "if file_exists != True:\n",
        "  !wget https://raw.githubusercontent.com/not-graham/Brain-Games-Final-Project/main/03.html\n",
        "source = '/content/Brain-Games-Final-Project/03.html'\n",
        "dest = '/content/pa-driver-tests/tests/data/review/03.html'\n",
        "file_exists = exists(\"/content/ajax.py\")\n",
        "if file_exists != True:\n",
        "  !wget https://raw.githubusercontent.com/Not-Graham/Brain-Games-Final-Project/main/ajax.py\n",
        "os.replace(source, dest)\n",
        "localtunnel = subprocess.Popen([sys.executable, '/content/Brain-Games-Final-Project/final.py'], \n",
        "                                    stdout=subprocess.PIPE, \n",
        "                                    stderr=subprocess.STDOUT)\n",
        "ajax = subprocess.Popen([sys.executable, '/content/ajax.py'], \n",
        "                                    stdout=subprocess.PIPE, \n",
        "                                    stderr=subprocess.STDOUT)\n",
        "from flask import Flask, render_template \n",
        "app = Flask(__name__, template_folder='/content/pa-driver-tests/tests/data/review')\n",
        "@app.route('/' )\n",
        "def index():\n",
        "    return render_template('03.html')\n",
        "app.run()"
      ]
    }
  ]
}