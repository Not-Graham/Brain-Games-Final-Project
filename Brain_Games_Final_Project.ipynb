{
  "nbformat": 4,
  "nbformat_minor": 0,
  "metadata": {
    "colab": {
      "name": "Brain Games Final Project.ipynb",
      "provenance": [],
      "collapsed_sections": [],
      "private_outputs": true,
      "include_colab_link": true
    },
    "kernelspec": {
      "name": "python3",
      "display_name": "Python 3"
    },
    "language_info": {
      "name": "python"
    }
  },
  "cells": [
    {
      "cell_type": "markdown",
      "metadata": {
        "id": "view-in-github",
        "colab_type": "text"
      },
      "source": [
        "<a href=\"https://colab.research.google.com/github/daguzjr/Brain-Games-Final-Project/blob/main/Brain_Games_Final_Project.ipynb\" target=\"_parent\"><img src=\"https://colab.research.google.com/assets/colab-badge.svg\" alt=\"Open In Colab\"/></a>"
      ]
    },
    {
      "cell_type": "code",
      "execution_count": null,
      "metadata": {
        "id": "6frMucY5Cv9y"
      },
      "outputs": [],
      "source": [
        "#from google.colab import drive\n",
        "#drive.mount('/gdrive')\n",
        "!wget https://github.com/daguzjr/Brain-Games-Final-Project/blob/v0.0.0/LocalTunnelServerRun.ipynb\n",
        "%run ./LocalTunnelServerRun.ipynb\n",
        "from flask import Flask, render_template , request \n",
        "try: \n",
        "  from flask_bootstrap import Bootstrap\n",
        "\n",
        "except: \n",
        "  !pip install flask-bootstrap\n",
        "  from flask_bootstrap import Bootstrap\n",
        "app = Flask(__name__)\n",
        "\n",
        "@app.route(\"/\")\n",
        "def hello():\n",
        "    return \"Hello Localtunnel\"\n",
        "app.run()\n",
        "\n",
        "\"\"\"\n",
        "from os.path import exists\n",
        "import os\n",
        "if not os.path.exists('templates'):\n",
        "  os.makedirs('templates')\n",
        "if not os.path.exists('static'):\n",
        "  os.makedirs('static')\n",
        "from flask import Flask, render_template\n",
        "import numpy\n",
        "from pprint import pprint\n",
        "import nltk\n",
        "nltk.download('stopwords')\n",
        "try:\n",
        "  from Questgen import main\n",
        "except:\n",
        "  !pip install git+https://github.com/ramsrigouthamg/Questgen.ai\n",
        "  !pip install git+https://github.com/boudinfl/pke.git\n",
        "  !python -m nltk.downloader universal_tagset\n",
        "  !python -m spacy download en\n",
        "  from Questgen import main\n",
        "file_exists = exists(\"/content/s2v_reddit_2015_md.tar.gz\")\n",
        "if file_exists != True:\n",
        "  !wget https://github.com/explosion/sense2vec/releases/download/v1.0.0/s2v_reddit_2015_md.tar.gz\n",
        "  !tar -xvf  s2v_reddit_2015_md.tar.gz\n",
        "try:\n",
        "  import wikipedia\n",
        "except:\n",
        "  !pip install wikipedia\n",
        "  import wikipedia\n",
        "import requests\n",
        "from bs4 import BeautifulSoup\n",
        "import random\n",
        "newline = '\\n'\n",
        "\n",
        "#computational code goes past this point\n",
        "\n",
        "for x in range(0, 4): \n",
        "    url = requests.get(\"https://en.wikipedia.org/wiki/Special:Random\")\n",
        "    soup = BeautifulSoup(url.content, \"html.parser\")\n",
        "    title = soup.find(class_=\"firstHeading\").text\n",
        "    try:\n",
        "      summary = wikipedia.summary(title)\n",
        "    except wikipedia.exceptions.DisambiguationError:\n",
        "      continue\n",
        "    except wikipedia.exceptions.PageError:\n",
        "      continue\n",
        "    length = len(summary)\n",
        "    if length >= 1000 or length <= 500:\n",
        "      continue\n",
        "    print(f\"Title of the article: {title}. The article is {length} characters long. {newline}Do you want to be quizzed on it? (Y/N) After 1 pass you will lose points.\")\n",
        "    ans = input(\"\").lower()\n",
        "    #print(\"summary type: \", type(summary))\n",
        "    if ans == \"y\" or ans == \"yes\":\n",
        "        qe = main.BoolQGen()\n",
        "        payload = {\n",
        "          \"input_text\": summary\n",
        "          }\n",
        "        pprint(\"Text/Reading: \" + summary)\n",
        "        output = qe.predict_boolq(payload)\n",
        "        pprint(\"Question: \" + random.choice(output['Boolean Questions']))\n",
        "        #print(\"raw output: \", output)\n",
        "        print(\"length of summary :\", length)\n",
        "        #qg = main.QGen()\n",
        "        #output = qg.predict_mcq(payload)\n",
        "        #pprint (output)\n",
        "    \n",
        "    elif ans == \"n\" or ans == \"no\":\n",
        "        print(\"Try Again!\")\n",
        "        continue\n",
        "    elif ans == \"e\" or ans == \"explicit\":\n",
        "        print(\"Try Again!\")\n",
        "        continue\n",
        "#30,000 ms(max of 30 seconds to answer)\"\"\""
      ]
    },
    {
      "cell_type": "code",
      "source": [
        "  !lt -p 5000 -s grahamswebsite"
      ],
      "metadata": {
        "id": "QNdNuDUstbYx"
      },
      "execution_count": null,
      "outputs": []
    }
  ]
}