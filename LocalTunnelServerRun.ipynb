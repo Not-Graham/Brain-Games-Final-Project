try:
  !lt -p 5000 -s grahamswebsite
except:
  !npm install -g npm
  !npm audit fix
  !npm install -g localtunnel
  !lt -p 5000 -s grahamswebsite
